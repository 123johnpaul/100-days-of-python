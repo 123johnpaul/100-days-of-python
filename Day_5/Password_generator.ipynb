{
 "cells": [
  {
   "cell_type": "code",
   "execution_count": 1,
   "metadata": {},
   "outputs": [
    {
     "name": "stdout",
     "output_type": "stream",
     "text": [
      "OaJ6Z,;1'BX$20,28@\n"
     ]
    }
   ],
   "source": [
    "import random\n",
    "letters = ['a','b','c','d','e','f','g','h','i','j','k','l','m','n','o','p','q','r','s','t','u','v','w','x','y','z','A','B','C','D','E','F','G',\n",
    "'H','I','J','K','L','M','N','O','P','Q','R','S','T','U','V','W','X','Y','Z']\n",
    "\n",
    "numbers = ['1','2','3','4','5','6','7','8','9','0']\n",
    "\n",
    "symbols = [\"!\",\"@\",\"#\",\"$\",\"%\",\"^\",\"&\",\"*\",\",\",\"'\",\".\",\"<\",\">\",\";\"]\n",
    "\n",
    "password = []\n",
    "\n",
    "quantity_numbers = int(input(\"how many numbers do you want in your password\"))\n",
    "quantity_letters = int(input(\"how many alphabets do you want in your password\"))\n",
    "quantity_symbols = int(input(\"how many symbols do you want in your password\"))\n",
    "quantity_password = quantity_letters + quantity_numbers + quantity_symbols\n",
    "\n",
    "for i in range(1,quantity_password + 1):\n",
    "    password += random.choice(numbers)\n",
    "    password += random.choice(letters)\n",
    "    password += random.choice(symbols)\n",
    "\n",
    "Password = \"\"\n",
    "\n",
    "random.shuffle(password)\n",
    "\n",
    "for i in password:\n",
    "    Password += i\n",
    "\n",
    "\n",
    "print(Password)\n"
   ]
  }
 ],
 "metadata": {
  "kernelspec": {
   "display_name": "base",
   "language": "python",
   "name": "python3"
  },
  "language_info": {
   "codemirror_mode": {
    "name": "ipython",
    "version": 3
   },
   "file_extension": ".py",
   "mimetype": "text/x-python",
   "name": "python",
   "nbconvert_exporter": "python",
   "pygments_lexer": "ipython3",
   "version": "3.11.7"
  }
 },
 "nbformat": 4,
 "nbformat_minor": 2
}
