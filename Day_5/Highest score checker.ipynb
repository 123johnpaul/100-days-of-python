{
 "cells": [
  {
   "cell_type": "code",
   "execution_count": 5,
   "metadata": {},
   "outputs": [
    {
     "name": "stdout",
     "output_type": "stream",
     "text": [
      "The highest score in from your students is: 10\n"
     ]
    }
   ],
   "source": [
    "#highest score checker\n",
    "scores = input(\"input the scores of your students seperated by a comma\")\n",
    "score = scores.split(\",\")\n",
    "\n",
    "highest = 0\n",
    "\n",
    "for i in score:\n",
    "    if highest < int(i):\n",
    "        highest = int(i)\n",
    "    else:\n",
    "        highest = highest\n",
    "print(f\"The highest score in from your students is: {highest}\") "
   ]
  },
  {
   "cell_type": "code",
   "execution_count": null,
   "metadata": {},
   "outputs": [],
   "source": []
  }
 ],
 "metadata": {
  "kernelspec": {
   "display_name": "base",
   "language": "python",
   "name": "python3"
  },
  "language_info": {
   "codemirror_mode": {
    "name": "ipython",
    "version": 3
   },
   "file_extension": ".py",
   "mimetype": "text/x-python",
   "name": "python",
   "nbconvert_exporter": "python",
   "pygments_lexer": "ipython3",
   "version": "3.11.7"
  }
 },
 "nbformat": 4,
 "nbformat_minor": 2
}
