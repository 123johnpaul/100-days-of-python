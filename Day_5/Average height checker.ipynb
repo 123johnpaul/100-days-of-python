{
 "cells": [
  {
   "cell_type": "code",
   "execution_count": 22,
   "metadata": {},
   "outputs": [
    {
     "name": "stdout",
     "output_type": "stream",
     "text": [
      "['123', '123', '123']\n",
      "average height of your students is 123.0\n"
     ]
    }
   ],
   "source": [
    "# average height\n",
    "student_count = int(input(\"input number of students to be recorded\"))\n",
    "student_height = input(\"input student heights here all seperated by a comma\")\n",
    "students_height = student_height.split(\",\")\n",
    "\n",
    "sum = 0\n",
    "for i in students_height:\n",
    "    sum += int(i)\n",
    "average_height = sum / student_count\n",
    "print(f\"average height of your students is {average_height}\")"
   ]
  },
  {
   "cell_type": "code",
   "execution_count": null,
   "metadata": {},
   "outputs": [],
   "source": []
  }
 ],
 "metadata": {
  "kernelspec": {
   "display_name": "base",
   "language": "python",
   "name": "python3"
  },
  "language_info": {
   "codemirror_mode": {
    "name": "ipython",
    "version": 3
   },
   "file_extension": ".py",
   "mimetype": "text/x-python",
   "name": "python",
   "nbconvert_exporter": "python",
   "pygments_lexer": "ipython3",
   "version": "3.11.7"
  }
 },
 "nbformat": 4,
 "nbformat_minor": 2
}
