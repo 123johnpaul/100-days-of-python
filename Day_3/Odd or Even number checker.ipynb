{
 "cells": [
  {
   "cell_type": "code",
   "execution_count": null,
   "metadata": {},
   "outputs": [],
   "source": [
    "#odd or even number checker\n",
    "number = input(\"input any number that comes to mind\")\n",
    "odd_or_even = float(number) % 2\n",
    "if odd_or_even == 0:\n",
    "    print(\"your number is an even number\")\n",
    "else:\n",
    "    print(\"your number is an odd number\")"
   ]
  }
 ],
 "metadata": {
  "kernelspec": {
   "display_name": "base",
   "language": "python",
   "name": "python3"
  },
  "language_info": {
   "name": "python",
   "version": "3.11.7"
  }
 },
 "nbformat": 4,
 "nbformat_minor": 2
}
