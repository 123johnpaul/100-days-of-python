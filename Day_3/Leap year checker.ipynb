{
 "cells": [
  {
   "cell_type": "code",
   "execution_count": null,
   "metadata": {},
   "outputs": [],
   "source": [
    "#leap year checker\n",
    "print(\"Welcome to the leap year checker\")\n",
    "year = input(\"what year do you want to check\")\n",
    "check1 = int(year) % 4\n",
    "check2 = int(year) % 100\n",
    "check3 = int(year) % 400\n",
    "if check1 == 0:\n",
    "    if check2 == 0:\n",
    "        if check3 == 0:\n",
    "            print(f\"Your selected year was {year}\\n it is a leap year\")\n",
    "        else:\n",
    "            print(f\"Your selected year was {year}\\n it is not a leap year\")\n",
    "    else:\n",
    "        print(f\"Your selected year was {year}\\n it is a leap year\")\n",
    "else:\n",
    "    (f\"Your selected year was {year}\\n it is not a leap year\")"
   ]
  }
 ],
 "metadata": {
  "kernelspec": {
   "display_name": "base",
   "language": "python",
   "name": "python3"
  },
  "language_info": {
   "name": "python",
   "version": "3.11.7"
  }
 },
 "nbformat": 4,
 "nbformat_minor": 2
}
