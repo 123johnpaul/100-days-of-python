{
 "cells": [
  {
   "cell_type": "code",
   "execution_count": 4,
   "metadata": {},
   "outputs": [
    {
     "name": "stdout",
     "output_type": "stream",
     "text": [
      "welcome to the love calculator\n",
      "your score is 22\n",
      "I dont know what your status is\n"
     ]
    }
   ],
   "source": [
    "#love calculator\n",
    "print(\"welcome to the love calculator\")\n",
    "name1 = input(\"input your name\").lower()\n",
    "name2 = input(\"input your crush name\").lower()\n",
    "t = name1.count(\"t\")\n",
    "r = name1.count(\"r\")\n",
    "u = name1.count(\"u\")\n",
    "e = name1.count(\"e\")\n",
    "l = name1.count(\"l\")\n",
    "o = name1.count(\"o\")\n",
    "v = name1.count(\"v\")\n",
    "e = name1.count(\"e\")\n",
    "\n",
    "t1 = name1.count(\"t\")\n",
    "r1 = name1.count(\"r\")\n",
    "u1 = name1.count(\"u\")\n",
    "e1 = name1.count(\"e\")\n",
    "l1 = name1.count(\"l\")\n",
    "o1 = name1.count(\"o\")\n",
    "v1 = name1.count(\"v\")\n",
    "e1 = name1.count(\"e\")\n",
    "\n",
    "firstname = t + r + u + e + l + o + v + e\n",
    "secondname = t1 + r1 + u1 + e1 + l1 + o1 + v1 + e1\n",
    "number = int(str(firstname) + str(secondname))\n",
    "\n",
    "if number > 10:\n",
    "    if number < 90:\n",
    "        if number >= 40:\n",
    "            if number <= 50:\n",
    "                print(f\"your score is {number}\\nyou are okay together\")\n",
    "        elif number < 40:\n",
    "            print(f\"your score is {number}\\nI dont know what your status is\")\n",
    "        elif number > 50:\n",
    "            print(f\"your score is {number}\\nI can't say much about the both of you\")\n",
    "        else:\n",
    "            print(\"Error\")\n",
    "    elif number > 90 :\n",
    "        print(f\"your score is {number}\\n you and your partner go together like coke and mentos\")\n",
    "elif number < 10:\n",
    "    print(f\"your score is {number}\\n you and your partner go together like coke and mentos\")\n",
    "else:\n",
    "    print(\"non existent\")"
   ]
  },
  {
   "cell_type": "code",
   "execution_count": null,
   "metadata": {},
   "outputs": [],
   "source": []
  }
 ],
 "metadata": {
  "kernelspec": {
   "display_name": "base",
   "language": "python",
   "name": "python3"
  },
  "language_info": {
   "codemirror_mode": {
    "name": "ipython",
    "version": 3
   },
   "file_extension": ".py",
   "mimetype": "text/x-python",
   "name": "python",
   "nbconvert_exporter": "python",
   "pygments_lexer": "ipython3",
   "version": "3.11.7"
  }
 },
 "nbformat": 4,
 "nbformat_minor": 2
}
