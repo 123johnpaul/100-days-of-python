{
 "cells": [
  {
   "cell_type": "code",
   "execution_count": null,
   "metadata": {},
   "outputs": [],
   "source": [
    "#BMI 2.0 \n",
    "height = input(\"what is your height in meters??\")\n",
    "weight = input(\"what is your weight in kg??\")\n",
    "bmi = float(weight) / (float(height) ** 2)\n",
    "BMI = round(bmi, 2)\n",
    "print(BMI)\n",
    "if BMI < 18.5:\n",
    "    print(\"you are under weight\")\n",
    "elif BMI < 25:\n",
    "    print(\"you are normal weight\")\n",
    "elif BMI < 30:\n",
    "    print(\"you are over weight\")   \n",
    "elif BMI < 35:\n",
    "    print(\"you are obese\") \n",
    "elif BMI > 35:\n",
    "    print(\"you are clinically obese\")\n",
    "else:\n",
    "    print(\"wrong input\")"
   ]
  }
 ],
 "metadata": {
  "kernelspec": {
   "display_name": "base",
   "language": "python",
   "name": "python3"
  },
  "language_info": {
   "name": "python",
   "version": "3.11.7"
  }
 },
 "nbformat": 4,
 "nbformat_minor": 2
}
