{
 "cells": [
  {
   "cell_type": "code",
   "execution_count": 16,
   "metadata": {},
   "outputs": [
    {
     "name": "stdout",
     "output_type": "stream",
     "text": [
      "['⬛️', '⬛️', '⬛️']\n",
      "['⬛️', '⬛️', '⬛️']\n",
      "['⬛️', '⬛️', '⬛️']\n",
      "You have saved your tresure on the part marked x\n",
      "['⬛️', '⬛️', '⬛️']\n",
      "['⬛️', '⬛️', 'x']\n",
      "['⬛️', '⬛️', '⬛️']\n"
     ]
    }
   ],
   "source": [
    "#treasure map game\n",
    "row_1 = [\"⬛️\", \"⬛️\", \"⬛️\"]\n",
    "row_2 = [\"⬛️\", \"⬛️\", \"⬛️\"]\n",
    "row_3 = [\"⬛️\", \"⬛️\", \"⬛️\"]\n",
    "map = [row_1,  row_2, row_3]\n",
    "\n",
    "print(f\"{row_1}\\n{row_2}\\n{row_3}\")\n",
    "\n",
    "location = input(\"input the number of the row and the column you want to hide your treasure in\\nstarting with the rows\")\n",
    "row = int(location[0])\n",
    "columns = int(location[1])\n",
    "\n",
    "selected_row = map[row - 1]\n",
    "selected_row[columns - 1] = \"x\"\n",
    "\n",
    "print(\"You have saved your tresure on the part marked x\")\n",
    "print(f\"{row_1}\\n{row_2}\\n{row_3}\")"
   ]
  },
  {
   "cell_type": "code",
   "execution_count": null,
   "metadata": {},
   "outputs": [],
   "source": []
  }
 ],
 "metadata": {
  "kernelspec": {
   "display_name": "base",
   "language": "python",
   "name": "python3"
  },
  "language_info": {
   "name": "python",
   "version": "3.11.7"
  }
 },
 "nbformat": 4,
 "nbformat_minor": 2
}
