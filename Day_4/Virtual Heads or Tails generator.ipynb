{
 "cells": [
  {
   "cell_type": "code",
   "execution_count": 2,
   "metadata": {},
   "outputs": [
    {
     "name": "stdout",
     "output_type": "stream",
     "text": [
      "Welcome to the virtual Heads or Tails generator\n",
      "Head\n"
     ]
    }
   ],
   "source": [
    "# this next line of code is used to call the random number generator\n",
    "import random\n",
    "#this is to change the seed number of the random number generator in order to change the randomization\n",
    "print(\"Welcome to the virtual Heads or Tails generator\")\n",
    "seed_number =int(input(\" input your seed number\"))\n",
    "random.seed(seed_number)\n",
    "#this line of code is to create the random number with its required range\n",
    "number = random.randint(0,1)\n",
    "#then the if functions for the decision making\n",
    "if number == 1:\n",
    "    print(\"Head\")\n",
    "else:\n",
    "    print(\"Tails\")\n"
   ]
  }
 ],
 "metadata": {
  "kernelspec": {
   "display_name": "base",
   "language": "python",
   "name": "python3"
  },
  "language_info": {
   "codemirror_mode": {
    "name": "ipython",
    "version": 3
   },
   "file_extension": ".py",
   "mimetype": "text/x-python",
   "name": "python",
   "nbconvert_exporter": "python",
   "pygments_lexer": "ipython3",
   "version": "3.11.7"
  }
 },
 "nbformat": 4,
 "nbformat_minor": 2
}
