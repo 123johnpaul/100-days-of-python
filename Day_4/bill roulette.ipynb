{
 "cells": [
  {
   "cell_type": "code",
   "execution_count": 14,
   "metadata": {},
   "outputs": [
    {
     "name": "stdout",
     "output_type": "stream",
     "text": [
      "taku is paying the bills\n"
     ]
    }
   ],
   "source": [
    "# this code is to select one person amongst a group of people to pay the bills for everyone\n",
    "\n",
    "import random\n",
    "#i am generating the random number now\n",
    "seed_number = int(input(\"create your seed number:\"))\n",
    "random.seed(seed_number)\n",
    "\n",
    "persons = int(input(\"how many persons are present??\"))\n",
    "persons -= 1\n",
    "j = random.randint(0,persons)\n",
    "number = str\n",
    "\n",
    "# i will get the names of the persons present now\n",
    "names = input(\"Write everyone's names.\\nEnsure to seperate them with a comma\")\n",
    "name_list = names.split(\",\")\n",
    "print(f\"{name_list[j]} is paying the bills\")\n"
   ]
  },
  {
   "cell_type": "code",
   "execution_count": null,
   "metadata": {},
   "outputs": [],
   "source": []
  }
 ],
 "metadata": {
  "kernelspec": {
   "display_name": "base",
   "language": "python",
   "name": "python3"
  },
  "language_info": {
   "codemirror_mode": {
    "name": "ipython",
    "version": 3
   },
   "file_extension": ".py",
   "mimetype": "text/x-python",
   "name": "python",
   "nbconvert_exporter": "python",
   "pygments_lexer": "ipython3",
   "version": "3.11.7"
  }
 },
 "nbformat": 4,
 "nbformat_minor": 2
}
