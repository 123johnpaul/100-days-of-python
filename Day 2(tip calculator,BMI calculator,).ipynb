{
 "cells": [
  {
   "cell_type": "code",
   "execution_count": 2,
   "metadata": {},
   "outputs": [
    {
     "name": "stdout",
     "output_type": "stream",
     "text": [
      "5\n"
     ]
    }
   ],
   "source": [
    "Two_digit_number = input(\"Type in a two digit number:\")\n",
    "print(int(Two_digit_number[0]) + int(Two_digit_number[1]))"
   ]
  },
  {
   "cell_type": "code",
   "execution_count": 7,
   "metadata": {},
   "outputs": [
    {
     "name": "stdout",
     "output_type": "stream",
     "text": [
      "Your Body Mass Index is :19\n"
     ]
    }
   ],
   "source": [
    "#Body mass index calculator\n",
    "mass = input(\"What is your mass in Kg??\")\n",
    "height = input(\"What is your height in meters??\")\n",
    "body_mass_index = float(mass)/float(height) ** 2\n",
    "bmi = int(body_mass_index)\n",
    "print(\"Your Body Mass Index is :\" + str(bmi))"
   ]
  },
  {
   "cell_type": "code",
   "execution_count": 3,
   "metadata": {},
   "outputs": [
    {
     "name": "stdout",
     "output_type": "stream",
     "text": [
      "your age is 12\n",
      " The number of years you have left is 78 years\n",
      " The number of weeks left are 4056 weeks\n",
      " The number of days you have left are 28470 days\n",
      " The number of moths left are 936 months \n"
     ]
    }
   ],
   "source": [
    "#Assuming every human gets to live till 90\n",
    "#i will be writing a code that calculates the remaining number of years,days and months one has till death\n",
    "life_span = 90\n",
    "age = input(\"How old are you??\")\n",
    "years_left = life_span - int(age)\n",
    "days = 365 * years_left\n",
    "weeks = 52 * years_left\n",
    "months = 12 * years_left\n",
    "print(f\"your age is {age}\\n The number of years you have left is {years_left} years\\n The number of weeks left are {weeks} weeks\\n The number of days you have left are {days} days\\n The number of moths left are {months} months \")"
   ]
  },
  {
   "cell_type": "code",
   "execution_count": null,
   "metadata": {},
   "outputs": [],
   "source": []
  }
 ],
 "metadata": {
  "kernelspec": {
   "display_name": "base",
   "language": "python",
   "name": "python3"
  },
  "language_info": {
   "codemirror_mode": {
    "name": "ipython",
    "version": 3
   },
   "file_extension": ".py",
   "mimetype": "text/x-python",
   "name": "python",
   "nbconvert_exporter": "python",
   "pygments_lexer": "ipython3",
   "version": "3.11.7"
  }
 },
 "nbformat": 4,
 "nbformat_minor": 2
}
