{
 "cells": [
  {
   "cell_type": "code",
   "execution_count": 1,
   "metadata": {},
   "outputs": [
    {
     "name": "stdout",
     "output_type": "stream",
     "text": [
      "welcome to my Band Name Generator\n",
      "Your Band Name is:\n",
      "lagospet\n"
     ]
    }
   ],
   "source": [
    "# Band name generator\n",
    "print(\"welcome to my Band Name Generator\")\n",
    "city_name = input(\"What is the name of your city?\\n\")\n",
    "pet_name = input(\"what is the name of your pet??\\n\")\n",
    "print(\"Your Band Name is:\\n\" + city_name + pet_name)\n"
   ]
  }
 ],
 "metadata": {
  "kernelspec": {
   "display_name": "base",
   "language": "python",
   "name": "python3"
  },
  "language_info": {
   "codemirror_mode": {
    "name": "ipython",
    "version": 3
   },
   "file_extension": ".py",
   "mimetype": "text/x-python",
   "name": "python",
   "nbconvert_exporter": "python",
   "pygments_lexer": "ipython3",
   "version": "3.11.7"
  }
 },
 "nbformat": 4,
 "nbformat_minor": 2
}
