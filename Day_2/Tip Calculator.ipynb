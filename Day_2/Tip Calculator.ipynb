{
 "cells": [
  {
   "cell_type": "code",
   "execution_count": 3,
   "metadata": {},
   "outputs": [
    {
     "name": "stdout",
     "output_type": "stream",
     "text": [
      "Welcome to the Tip Calculator\n",
      "your total bill is $20548.2\n",
      "Each person is to pay $2935.46\n"
     ]
    }
   ],
   "source": [
    "#Tip Calculator\n",
    "print(\"Welcome to the Tip Calculator\")\n",
    "bill = float(input(\"what is the bill??\"))\n",
    "persons = int(input(\"how many persons are splitting the bills??\"))\n",
    "percent = int(input(\"how many percent tip do you want to give?? 10, 12, or 15\"))\n",
    "tip = bill *(percent / 100)\n",
    "bill += tip\n",
    "per_person = bill / float(persons)\n",
    "\n",
    "print(f\"your total bill is ${round(bill, 2)}\\nEach person is to pay ${round(per_person, 2)}\")"
   ]
  },
  {
   "cell_type": "code",
   "execution_count": null,
   "metadata": {},
   "outputs": [],
   "source": []
  }
 ],
 "metadata": {
  "kernelspec": {
   "display_name": "base",
   "language": "python",
   "name": "python3"
  },
  "language_info": {
   "codemirror_mode": {
    "name": "ipython",
    "version": 3
   },
   "file_extension": ".py",
   "mimetype": "text/x-python",
   "name": "python",
   "nbconvert_exporter": "python",
   "pygments_lexer": "ipython3",
   "version": "3.11.7"
  }
 },
 "nbformat": 4,
 "nbformat_minor": 2
}
