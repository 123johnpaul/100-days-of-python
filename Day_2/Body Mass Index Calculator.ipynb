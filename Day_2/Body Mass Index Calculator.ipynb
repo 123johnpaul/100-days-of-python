{
 "cells": [
  {
   "cell_type": "code",
   "execution_count": null,
   "metadata": {},
   "outputs": [],
   "source": [
    "#Body mass index calculator\n",
    "mass = input(\"What is your mass in Kg??\")\n",
    "height = input(\"What is your height in meters??\")\n",
    "body_mass_index = float(mass)/float(height) ** 2\n",
    "bmi = int(body_mass_index)\n",
    "print(\"Your Body Mass Index is :\" + str(bmi))"
   ]
  }
 ],
 "metadata": {
  "kernelspec": {
   "display_name": "base",
   "language": "python",
   "name": "python3"
  },
  "language_info": {
   "name": "python",
   "version": "3.11.7"
  }
 },
 "nbformat": 4,
 "nbformat_minor": 2
}
